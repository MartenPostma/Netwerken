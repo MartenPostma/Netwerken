{
 "cells": [
  {
   "cell_type": "markdown",
   "metadata": {},
   "source": [
    "# HTTP\n",
    "In deze opdracht ga je zelf HTTP requests doen.\n",
    "Je gaat de webpagina opvragen die het cijfer bevat van het aantal besmettingen van gisteren."
   ]
  },
  {
   "cell_type": "markdown",
   "metadata": {},
   "source": [
    "## Stap 1: de webpagina\n",
    "We gaan een HTTP request doen bij de volgende webpagina: \n",
    "**https://coronadashboard.rijksoverheid.nl/landelijk/positief-geteste-mensen**\n",
    "\n",
    "Neem ook eens een kijkje door de volgende regel op te zoeken in je browser:\n",
    "```\n",
    "view-source:https://coronadashboard.rijksoverheid.nl/landelijk/positief-geteste-mensen\n",
    "```"
   ]
  },
  {
   "cell_type": "markdown",
   "metadata": {},
   "source": [
    "Kun je het cijfer vinden van het aantal besmettingen van gisteren?"
   ]
  },
  {
   "cell_type": "markdown",
   "metadata": {},
   "source": [
    "## Stap 2: HTTP GET request\n",
    "We gaan een HTTP GET request doen. Hiervoor gebruiken we de **requests** library:"
   ]
  },
  {
   "cell_type": "code",
   "execution_count": 1,
   "metadata": {},
   "outputs": [],
   "source": [
    "import requests"
   ]
  },
  {
   "cell_type": "markdown",
   "metadata": {},
   "source": [
    "De URL (Uniform Resource Locator) van het HTTP GET request is:"
   ]
  },
  {
   "cell_type": "code",
   "execution_count": 2,
   "metadata": {},
   "outputs": [],
   "source": [
    "url = 'https://coronadashboard.rijksoverheid.nl/landelijk/positief-geteste-mensen'"
   ]
  },
  {
   "cell_type": "markdown",
   "metadata": {},
   "source": [
    "We gaan nu in Python een HTTP GET request doen:"
   ]
  },
  {
   "cell_type": "code",
   "execution_count": 3,
   "metadata": {},
   "outputs": [],
   "source": [
    "r = requests.get(url)"
   ]
  },
  {
   "cell_type": "markdown",
   "metadata": {},
   "source": [
    "## Stap 3: response bekijken"
   ]
  },
  {
   "cell_type": "markdown",
   "metadata": {},
   "source": [
    "Als eerste gaan we de status code bekijken"
   ]
  },
  {
   "cell_type": "code",
   "execution_count": 4,
   "metadata": {},
   "outputs": [
    {
     "name": "stdout",
     "output_type": "stream",
     "text": [
      "200\n"
     ]
    }
   ],
   "source": [
    "print(r.status_code)"
   ]
  },
  {
   "cell_type": "markdown",
   "metadata": {},
   "source": [
    "Is de status code 200? Dan is het gelukt!"
   ]
  },
  {
   "cell_type": "markdown",
   "metadata": {},
   "source": [
    "Leg uit wat de volgende status codes betekenen:\n",
    "- 404\n",
    "- 414\n",
    "- 418\n",
    "- 429"
   ]
  },
  {
   "cell_type": "markdown",
   "metadata": {},
   "source": [
    "Gelukkig bevat een response nog veel meer informatie:"
   ]
  },
  {
   "cell_type": "code",
   "execution_count": 5,
   "metadata": {},
   "outputs": [
    {
     "name": "stdout",
     "output_type": "stream",
     "text": [
      "Content-Type text/html\n",
      "Cache-Control no-cache, public\n",
      "Content-Encoding gzip\n",
      "Expires Mon, 15 Mar 2021 16:37:04 GMT\n",
      "Last-Modified Mon, 15 Mar 2021 16:09:33 GMT\n",
      "ETag W/\"604f86bd-1471f8\"\n",
      "Content-Security-Policy default-src 'self' statistiek.rijksoverheid.nl; img-src 'self' statistiek.rijksoverheid.nl data:; style-src 'self' 'unsafe-inline'; script-src 'self' statistiek.rijksoverheid.nl;\n",
      "Referrer-Policy origin\n",
      "X-Content-Type-Options nosniff\n",
      "X-Frame-Options SAMEORIGIN\n",
      "X-XSS-Protection 1; mode=block\n",
      "Date Tue, 16 Mar 2021 12:23:26 GMT\n",
      "Content-Length 183170\n",
      "Connection keep-alive\n",
      "Vary Accept-Encoding\n",
      "Strict-Transport-Security max-age=15768000 ; preload\n"
     ]
    }
   ],
   "source": [
    "for header, waarde in r.headers.items():\n",
    "    print(header, waarde)"
   ]
  },
  {
   "cell_type": "markdown",
   "metadata": {},
   "source": [
    "Leg uit wat de volgende headers betekenen:\n",
    "- Content-Type\n",
    "- Last-Modified\n",
    "- Date\n",
    "- Content-Length"
   ]
  },
  {
   "cell_type": "markdown",
   "metadata": {},
   "source": [
    "## Stap 4: op zoek naar het aantal besmettingen"
   ]
  },
  {
   "cell_type": "markdown",
   "metadata": {},
   "source": [
    "We gaan eerst de HTML inlezen met Python via de lxml library."
   ]
  },
  {
   "cell_type": "code",
   "execution_count": 6,
   "metadata": {},
   "outputs": [],
   "source": [
    "from lxml import etree"
   ]
  },
  {
   "cell_type": "code",
   "execution_count": 7,
   "metadata": {},
   "outputs": [],
   "source": [
    "doc = etree.HTML(r.text)"
   ]
  },
  {
   "cell_type": "code",
   "execution_count": 8,
   "metadata": {},
   "outputs": [],
   "source": [
    "html_element = 'div'\n",
    "attribuut_waarde = 'infected'\n",
    "html_elementen = doc.xpath(f'//{html_element}[@data-cy=\"{attribuut_waarde}\"]')"
   ]
  },
  {
   "cell_type": "markdown",
   "metadata": {},
   "source": [
    "Als het goed is, is er maar een HTML element *div* met als waarde van **data-cy**: **infected**"
   ]
  },
  {
   "cell_type": "code",
   "execution_count": 9,
   "metadata": {},
   "outputs": [
    {
     "data": {
      "text/plain": [
       "1"
      ]
     },
     "execution_count": 9,
     "metadata": {},
     "output_type": "execute_result"
    }
   ],
   "source": [
    "len(html_elementen)"
   ]
  },
  {
   "cell_type": "code",
   "execution_count": 10,
   "metadata": {},
   "outputs": [
    {
     "name": "stdout",
     "output_type": "stream",
     "text": [
      "<div color=\"data.primary\" data-cy=\"infected\" class=\"kpi-value__StyledValue-sc-2mskn4-0 hZojKL\">5.549</div>\n"
     ]
    }
   ],
   "source": [
    "element = html_elementen[0]\n",
    "etree.dump(element)"
   ]
  },
  {
   "cell_type": "code",
   "execution_count": 11,
   "metadata": {},
   "outputs": [
    {
     "name": "stdout",
     "output_type": "stream",
     "text": [
      "5549\n"
     ]
    }
   ],
   "source": [
    "aantal_besmettingen = element.text.replace('.', '')\n",
    "print(aantal_besmettingen)"
   ]
  },
  {
   "cell_type": "markdown",
   "metadata": {},
   "source": [
    "## Stap 5: JSON\n",
    "HTML is niet echt makkelijk in te lezen door computers. Het RIVM biedt ook ander soorten formaten aan:\n",
    "https://data.rivm.nl/covid-19/"
   ]
  },
  {
   "cell_type": "markdown",
   "metadata": {},
   "source": [
    "We gaan nu een HTTP request doen om een JSON bestand op te vragen voor het aantal besmettingen per gemeente per dag."
   ]
  },
  {
   "cell_type": "markdown",
   "metadata": {},
   "source": [
    "https://data.rivm.nl/covid-19/COVID-19_aantallen_gemeente_per_dag.json"
   ]
  },
  {
   "cell_type": "code",
   "execution_count": 12,
   "metadata": {},
   "outputs": [],
   "source": [
    "page = 'https://data.rivm.nl/covid-19/COVID-19_aantallen_gemeente_per_dag.json'"
   ]
  },
  {
   "cell_type": "code",
   "execution_count": 13,
   "metadata": {},
   "outputs": [],
   "source": [
    "r = requests.get(page)"
   ]
  },
  {
   "cell_type": "code",
   "execution_count": 14,
   "metadata": {},
   "outputs": [
    {
     "name": "stdout",
     "output_type": "stream",
     "text": [
      "200\n"
     ]
    }
   ],
   "source": [
    "print(r.status_code)"
   ]
  },
  {
   "cell_type": "code",
   "execution_count": 15,
   "metadata": {},
   "outputs": [],
   "source": [
    "json_object = r.json()"
   ]
  },
  {
   "cell_type": "code",
   "execution_count": 16,
   "metadata": {},
   "outputs": [
    {
     "name": "stdout",
     "output_type": "stream",
     "text": [
      "{'Date_of_report': '2021-03-15 10:00:00', 'Date_of_publication': '2020-04-10', 'Municipality_code': 'GM0307', 'Municipality_name': 'Amersfoort', 'Province': 'Utrecht', 'Security_region_code': 'VR09', 'Security_region_name': 'Utrecht', 'Municipal_health_service': 'GGD Regio Utrecht', 'ROAZ_region': 'Traumazorgnetwerk Midden-Nederland', 'Total_reported': 2, 'Hospital_admission': 3, 'Deceased': 1}\n"
     ]
    }
   ],
   "source": [
    "stad = 'Amersfoort'\n",
    "datum = '2020-04-10' # JAAR-MAAND-DAG\n",
    "for informatie in json_object:\n",
    "    if informatie['Municipality_name'] == stad:\n",
    "        if informatie['Date_of_publication'] == datum:\n",
    "            print(informatie)"
   ]
  },
  {
   "cell_type": "markdown",
   "metadata": {},
   "source": [
    "* Hoeveel overledenen waren er in Amersfort op 27 november 2020? En hoeveel ziekenhuisopnames?\n",
    "* Hoeveel positieve besmettingen had Urk op oudjaarsdag 2020?"
   ]
  },
  {
   "cell_type": "code",
   "execution_count": null,
   "metadata": {},
   "outputs": [],
   "source": []
  }
 ],
 "metadata": {
  "kernelspec": {
   "display_name": "Python 3",
   "language": "python",
   "name": "python3"
  },
  "language_info": {
   "codemirror_mode": {
    "name": "ipython",
    "version": 3
   },
   "file_extension": ".py",
   "mimetype": "text/x-python",
   "name": "python",
   "nbconvert_exporter": "python",
   "pygments_lexer": "ipython3",
   "version": "3.6.10"
  }
 },
 "nbformat": 4,
 "nbformat_minor": 2
}
