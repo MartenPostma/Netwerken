{
 "cells": [
  {
   "cell_type": "markdown",
   "metadata": {},
   "source": [
    "# Hypertext Transfer Protocol (HTTP)\n",
    "In deze opdracht ga je zelf een Hypertext Transfer Protocol (Hypertext Transfer Protocol) request doen. Je gaat de webpagina opvragen die het cijfer bevat van het aantal positieve coronatesten van gisteren.\n",
    "\n",
    "**aan het einde van de opdracht**:\n",
    "* kun je zelf een HTTP request doen via de programmeertaal Python\n",
    "\n",
    "**voor als je meer wilt weten over HTTP**:\n",
    "* de [requests](https://docs.python-requests.org/en/master/) library\n",
    "* de Wikipedia pagina over [HTTP](https://nl.wikipedia.org/wiki/Hypertext_Transfer_Protocol)\n",
    "* [Youtube video](https://www.youtube.com/watch?v=4_-KdOLZWLs) over HTTP"
   ]
  },
  {
   "cell_type": "markdown",
   "metadata": {},
   "source": [
    "**uitleg voor het maken van deze opdracht**\n",
    "* deze opdracht bestaat uit vijf stappen. Het is belangrijk dat je alle stappen na elkaar uitvoert. \n",
    "* Je voert een cel uit door er eerst op te klikken. Daarna klik je op het 'play' teken bovenaan dit bestand.\n",
    "* sommige stappen bevatten **vragen**. Bij een vraag is het belangrijk dat jij de vraag beantwoordt.\n",
    "* je kunt je antwoord opschrijven in dit bestand:\n",
    "    * Klik op de cel van de vraag\n",
    "    * Klik daarna op het plusje boven de titel van dit bestand (een lege cel verschijnt)\n",
    "    * Kies 'Markdown' vanuit de dropdown bovenaan dit bestand.\n",
    "    * typ je antwoord in de cel die verschijnt gevolgd door het 'play' teken bovenaan dit bestand.\n",
    "* Als laatste is het heel belangrijk dat je het bestand opslaat (zie diskette afbeelding bovenaan dit bestand) en dat je jouw opdracht downloadt\n",
    "* Je kunt het bestand download door te klikken op 'Download' bovenaan dit bestand. Een bestand genaamd 'HTTP.ipynb' zal verschijnen in je Downloads map. Dit bestand lever je in. Let op dat het bestand niet overschreden wordt als je meerdere keren downloadt. Je krijgt dan HTTP (1).ipynb, HTTP (2).ipynb, etc."
   ]
  },
  {
   "cell_type": "markdown",
   "metadata": {},
   "source": [
    "## Stap 1: de webpagina\n",
    "We gaan in deze opdracht een HTTP request doen van de volgende webpagina: \n",
    "**https://coronadashboard.rijksoverheid.nl/landelijk/positief-geteste-mensen**."
   ]
  },
  {
   "cell_type": "markdown",
   "metadata": {},
   "source": [
    "## Stap 2: HTTP GET request\n",
    "We gaan een HTTP GET request doen. Hiervoor gebruiken we de **urllib** library:"
   ]
  },
  {
   "cell_type": "code",
   "execution_count": null,
   "metadata": {},
   "outputs": [],
   "source": [
    "from urllib.request import urlopen"
   ]
  },
  {
   "cell_type": "markdown",
   "metadata": {},
   "source": [
    "De URL (Uniform Resource Locator) van het HTTP GET request is:"
   ]
  },
  {
   "cell_type": "code",
   "execution_count": null,
   "metadata": {},
   "outputs": [],
   "source": [
    "url = 'https://coronadashboard.rijksoverheid.nl/landelijk/positief-geteste-mensen'"
   ]
  },
  {
   "cell_type": "markdown",
   "metadata": {},
   "source": [
    "We gaan nu in Python een HTTP GET request doen:"
   ]
  },
  {
   "cell_type": "code",
   "execution_count": null,
   "metadata": {},
   "outputs": [],
   "source": [
    "r = urlopen(url)\n",
    "the_html = r.read().decode('utf-8')"
   ]
  },
  {
   "cell_type": "markdown",
   "metadata": {},
   "source": [
    "## Stap 3: response bekijken"
   ]
  },
  {
   "cell_type": "markdown",
   "metadata": {},
   "source": [
    "Als eerste gaan we de status code bekijken"
   ]
  },
  {
   "cell_type": "code",
   "execution_count": null,
   "metadata": {},
   "outputs": [],
   "source": [
    "status_code = r.getcode()\n",
    "print(status_code)"
   ]
  },
  {
   "cell_type": "markdown",
   "metadata": {},
   "source": [
    "Is de status code 200? Dan is het gelukt!"
   ]
  },
  {
   "cell_type": "markdown",
   "metadata": {},
   "source": [
    "`**Vraag 1**: Leg uit wat de volgende status codes betekenen (gebruik je favoriete zoekmachine om achter de betekenis van de statuscodes te komen):`\n",
    "- 404\n",
    "- 414\n",
    "- 418\n",
    "- 429"
   ]
  },
  {
   "cell_type": "markdown",
   "metadata": {},
   "source": [
    "Gelukkig bevat een response nog veel meer informatie:"
   ]
  },
  {
   "cell_type": "code",
   "execution_count": null,
   "metadata": {},
   "outputs": [],
   "source": [
    "for header, waarde in r.headers.items():\n",
    "    print(header, waarde)"
   ]
  },
  {
   "cell_type": "markdown",
   "metadata": {},
   "source": [
    "`**Vraag 2**: Leg uit wat de volgende headers betekenen (gebruik je favoriete zoekmachine om achter de betekenis van de headers te komen):`\n",
    "- Content-Type\n",
    "- Last-Modified\n",
    "- Date"
   ]
  },
  {
   "cell_type": "markdown",
   "metadata": {},
   "source": [
    "Als laatste stap gaan we de HTML zelf bekijken. Hieronder tonen we de eerste 100 karakters van de HTML."
   ]
  },
  {
   "cell_type": "code",
   "execution_count": null,
   "metadata": {},
   "outputs": [],
   "source": [
    "print(the_html[:100])"
   ]
  },
  {
   "cell_type": "markdown",
   "metadata": {},
   "source": [
    "## Stap 4: op zoek naar het aantal besmettingen"
   ]
  },
  {
   "cell_type": "markdown",
   "metadata": {},
   "source": [
    "We gaan eerst de HTML inlezen met Python via de **xml** library."
   ]
  },
  {
   "cell_type": "code",
   "execution_count": null,
   "metadata": {},
   "outputs": [],
   "source": [
    "import xml.etree.ElementTree as ET\n",
    "from io import StringIO"
   ]
  },
  {
   "cell_type": "code",
   "execution_count": null,
   "metadata": {},
   "outputs": [],
   "source": [
    "the_html_as_file_object = StringIO(the_html)\n",
    "tree = ET.parse(the_html_as_file_object)"
   ]
  },
  {
   "cell_type": "code",
   "execution_count": null,
   "metadata": {},
   "outputs": [],
   "source": [
    "html_element = 'div'\n",
    "attribuut_waarde = 'infected'\n",
    "html_elementen = tree.findall(f'.//{html_element}[@data-cy=\"{attribuut_waarde}\"]')"
   ]
  },
  {
   "cell_type": "markdown",
   "metadata": {},
   "source": [
    "Als het goed is, is er maar een HTML element *div* met als waarde van **data-cy**: **infected**"
   ]
  },
  {
   "cell_type": "code",
   "execution_count": null,
   "metadata": {},
   "outputs": [],
   "source": [
    "len(html_elementen)"
   ]
  },
  {
   "cell_type": "code",
   "execution_count": null,
   "metadata": {},
   "outputs": [],
   "source": [
    "element = html_elementen[0]\n",
    "ET.dump(element)"
   ]
  },
  {
   "cell_type": "code",
   "execution_count": null,
   "metadata": {},
   "outputs": [],
   "source": [
    "aantal_besmettingen = element.text.replace('.', '')\n",
    "print(aantal_besmettingen)"
   ]
  },
  {
   "cell_type": "markdown",
   "metadata": {},
   "source": [
    "Als het goed is, zie je hierboven het aantal positieve coronatesten van gisteren!"
   ]
  },
  {
   "cell_type": "markdown",
   "metadata": {},
   "source": [
    "## Stap 5: JSON\n",
    "HTML is niet echt makkelijk in te lezen door computers. Het RIVM biedt ook ander soorten formaten aan:\n",
    "https://data.rivm.nl/covid-19/"
   ]
  },
  {
   "cell_type": "markdown",
   "metadata": {},
   "source": [
    "We gaan nu een HTTP request doen om een JSON bestand op te vragen voor het aantal besmettingen per gemeente per dag."
   ]
  },
  {
   "cell_type": "code",
   "execution_count": null,
   "metadata": {},
   "outputs": [],
   "source": [
    "import json"
   ]
  },
  {
   "cell_type": "markdown",
   "metadata": {},
   "source": [
    "https://data.rivm.nl/covid-19/COVID-19_aantallen_gemeente_per_dag.json"
   ]
  },
  {
   "cell_type": "code",
   "execution_count": null,
   "metadata": {},
   "outputs": [],
   "source": [
    "page = 'https://data.rivm.nl/covid-19/COVID-19_aantallen_gemeente_per_dag.json'"
   ]
  },
  {
   "cell_type": "markdown",
   "metadata": {},
   "source": [
    "De volgende cel zal even duren voordat deze klaar is. Zolang er `[*]` staat is Python nog aan het nadenken."
   ]
  },
  {
   "cell_type": "code",
   "execution_count": null,
   "metadata": {},
   "outputs": [],
   "source": [
    "r = urlopen(page)\n",
    "json_as_string = r.read().decode('utf-8')\n",
    "json_object = json.loads(json_as_string)"
   ]
  },
  {
   "cell_type": "code",
   "execution_count": null,
   "metadata": {},
   "outputs": [],
   "source": [
    "print(r.getcode())"
   ]
  },
  {
   "cell_type": "code",
   "execution_count": null,
   "metadata": {},
   "outputs": [],
   "source": [
    "stad = 'Amersfoort' # GEMEENTE\n",
    "datum = '2020-10-01' # JAAR-MAAND-DAG\n",
    "for informatie in json_object:\n",
    "    if informatie['Municipality_name'] == stad:\n",
    "        if informatie['Date_of_publication'] == datum:\n",
    "            print(informatie)"
   ]
  },
  {
   "cell_type": "markdown",
   "metadata": {},
   "source": [
    "`**Vraag 3**: Hoeveel overledenen waren er in Amersfoort op 27 november 2020? En hoeveel ziekenhuisopnames?`"
   ]
  },
  {
   "cell_type": "markdown",
   "metadata": {},
   "source": [
    "`**Vraag 4**: Hoeveel positieve besmettingen had Urk op oudjaarsdag 2020?`"
   ]
  }
 ],
 "metadata": {
  "kernelspec": {
   "display_name": "Python 3",
   "language": "python",
   "name": "python3"
  },
  "language_info": {
   "codemirror_mode": {
    "name": "ipython",
    "version": 3
   },
   "file_extension": ".py",
   "mimetype": "text/x-python",
   "name": "python",
   "nbconvert_exporter": "python",
   "pygments_lexer": "ipython3",
   "version": "3.6.10"
  }
 },
 "nbformat": 4,
 "nbformat_minor": 2
}
