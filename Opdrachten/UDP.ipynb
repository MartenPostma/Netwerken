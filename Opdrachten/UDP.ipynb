{
 "cells": [
  {
   "cell_type": "markdown",
   "metadata": {},
   "source": [
    "# UDP\n",
    "In deze opdracht gaan we het UDP protocol gebruiken om berichten te versturen en ontvangen.\n",
    "We gaan hiervoor zogenaamde **sockets** creëren:\n",
    "* `client`: één socket gaat berichten versturen en\n",
    "* `server`: één socket gaat berichten ontvangen.\n",
    "\n",
    "We gaan spelen met hoe groot de berichten zijn en hoeveel berichten we in korte tijd gaan sturen.\n",
    "Je zal hopelijk zien dat het niets voor niets is dat TCP meer functionaliteit heeft!"
   ]
  },
  {
   "cell_type": "markdown",
   "metadata": {},
   "source": [
    "### Stap 1: Importeren van Socket library voor UDP met IPv4."
   ]
  },
  {
   "cell_type": "code",
   "execution_count": null,
   "metadata": {},
   "outputs": [],
   "source": [
    "from socket import socket, AF_INET, SOCK_DGRAM"
   ]
  },
  {
   "cell_type": "markdown",
   "metadata": {},
   "source": [
    "We gaan gebruik maken van de **socket** library in Python.\n",
    "\n",
    "Hiervan importeren we:\n",
    "* **AF_INET**: als we een socket creeëren, moeten we aangeven wat voor soort adressen we gaan gebruiken.\n",
    "In het geval van [IPv4](https://nl.wikipedia.org/wiki/Internet_Protocol_versie_4), gebruiken we **AF_INET**.\n",
    "* **SOCK_DGRAM**: hiermee geven we aan dat we UDP gaan gebruiken voor het versturen van packets.\n"
   ]
  },
  {
   "cell_type": "markdown",
   "metadata": {},
   "source": [
    "### Stap 2: het creëren van een socket die berichten gaat versturen (client)"
   ]
  },
  {
   "cell_type": "markdown",
   "metadata": {},
   "source": [
    "Om een socket te creeëren, heb je een IP adres nodig en een poort van dit IP adres.\n",
    "We gebruiken voor deze stap als IP adres `0.0.0.0`\n",
    "\n",
    "Je kunt zien dat dit een IPv4 adres is aangezien het bestaat uit:\n",
    "* 4 cijfers tussen 0 en 255\n",
    "* het drie punten bevat\n",
    "\n",
    "We gebruiken daarnaast de poorten vanaf 1024. De poorten 0 tot 1023 zijn gereserveerd voor bekende functionaliteit zoals bijvoorbeeld 25 meestal gebruikt wordt door het SMTP protocol.\n"
   ]
  },
  {
   "cell_type": "code",
   "execution_count": null,
   "metadata": {},
   "outputs": [],
   "source": [
    "client_ip_adres = \"0.0.0.0\"\n",
    "client_poort = 1234"
   ]
  },
  {
   "cell_type": "code",
   "execution_count": null,
   "metadata": {},
   "outputs": [],
   "source": [
    "client = socket(AF_INET, SOCK_DGRAM)\n",
    "client.bind((client_ip_adres, client_poort))   # Socket binden aan IP en PORT."
   ]
  },
  {
   "cell_type": "markdown",
   "metadata": {},
   "source": [
    "Je hebt zojuist een socket gemaakt."
   ]
  },
  {
   "cell_type": "markdown",
   "metadata": {},
   "source": [
    "### Stap 3: de server starten"
   ]
  },
  {
   "cell_type": "markdown",
   "metadata": {},
   "source": [
    "De volgende stap is het starten van de socket die de berichten gaat ontvangen.\n",
    "In deze stap van de opdrachten gebruiken we hiervoor hetzelfde IP adres \n",
    "als voor de versturende socket, namelijk `0.0.0.0`, maar een andere poort, namelijk `1235`.\n",
    "Hiervoor:\n",
    "* ga je naar je Command prompt\n",
    "* navigeer naar de folder waarin deze instructies staan\n",
    "* typ `python server.py`"
   ]
  },
  {
   "cell_type": "markdown",
   "metadata": {},
   "source": [
    "Als het goed is zie je het volgende bericht in de Command prompt:\n",
    "```\n",
    "server gestart op IP adres (0.0.0.0) en poort (1235)\n",
    "aan het wachten op berichten.\n",
    "```"
   ]
  },
  {
   "cell_type": "markdown",
   "metadata": {},
   "source": [
    "### Stap 4: een bericht versturen"
   ]
  },
  {
   "cell_type": "code",
   "execution_count": null,
   "metadata": {},
   "outputs": [],
   "source": [
    "server_ip_adres = \"0.0.0.0\"\n",
    "server_poort = 1235"
   ]
  },
  {
   "cell_type": "code",
   "execution_count": null,
   "metadata": {},
   "outputs": [],
   "source": [
    "bericht = 'hello world'\n",
    "client.sendto(bericht.encode(),\n",
    "              (server_ip_adres, server_poort))  # Verzenden van bericht naar de server."
   ]
  },
  {
   "cell_type": "markdown",
   "metadata": {},
   "source": [
    "Waarschijnlijk zie je nu een cijfer, namelijk `11`. Dit is het aantal karakters van het bericht dat je gestuurd hebt."
   ]
  },
  {
   "cell_type": "markdown",
   "metadata": {},
   "source": [
    "Kijk nu maar eens naar je Command Prompt. Wat zie je daar?"
   ]
  },
  {
   "cell_type": "markdown",
   "metadata": {},
   "source": [
    "### Stap 5: de maximum UDP payload ingesteld op jouw computer"
   ]
  },
  {
   "cell_type": "code",
   "execution_count": null,
   "metadata": {},
   "outputs": [],
   "source": [
    "server_ip_adres = \"0.0.0.0\"\n",
    "server_poort = 1235"
   ]
  },
  {
   "cell_type": "code",
   "execution_count": null,
   "metadata": {},
   "outputs": [],
   "source": [
    "aantal_karakters = 1\n",
    "bericht = 'a' * aantal_karakters\n",
    "\n",
    "client.sendto(bericht.encode(),\n",
    "              (server_ip_adres, server_poort))  # Verzenden van bericht naar de server.\n",
    "\n",
    "print(f'bericht heeft {len(bericht)} karakter(s)')"
   ]
  },
  {
   "cell_type": "markdown",
   "metadata": {},
   "source": [
    "Verander `aantal_karakters` totdat je een foutmelding krijgt. \n",
    "Uit hoeveel karakters kan een bericht bestaan?\n",
    "\n",
    "Let op: dit aantal kan verschillen per besturingssysteem."
   ]
  },
  {
   "cell_type": "markdown",
   "metadata": {},
   "source": [
    "### Stap 6: Komen berichten goed aan?\n",
    "Tot nu toe hebben we maar één bericht gestuurd.\n",
    "Maar nu gaan we bestuderen hoeveel het systeem aankan.\n",
    "Hiervoor moet je `server.py` stoppen (control + c in de command prompt).\n",
    "\n",
    "Voer de volgende stappen uit:\n",
    "* ga je naar je Command prompt\n",
    "* navigeer naar de folder waarin deze instructies staan\n",
    "* typ `python server2.py`"
   ]
  },
  {
   "cell_type": "markdown",
   "metadata": {},
   "source": [
    "De functionaliteit is hetzelfde als voorheen, maar nu krijgen we een andere boodschap als we een bericht sturen."
   ]
  },
  {
   "cell_type": "code",
   "execution_count": null,
   "metadata": {},
   "outputs": [],
   "source": [
    "server_ip_adres = \"0.0.0.0\"\n",
    "server_poort = 1235\n",
    "\n",
    "bericht = 'hello world'\n",
    "\n",
    "client.sendto(bericht.encode(),\n",
    "              (server_ip_adres, server_poort))  # Verzenden van bericht naar de server."
   ]
  },
  {
   "cell_type": "markdown",
   "metadata": {},
   "source": [
    "Als het goed is, zie je het volgende in je Command prompt:\n",
    "    \n",
    "```\n",
    "server gestart op IP adres (0.0.0.0) en poort (1235)\n",
    "aan het wachten op berichten.\n",
    "totaal aantal berichten ontvangen: 1\n",
    "```"
   ]
  },
  {
   "cell_type": "code",
   "execution_count": null,
   "metadata": {},
   "outputs": [],
   "source": [
    "bericht = 'hello world'\n",
    "\n",
    "client.sendto(bericht.encode(),\n",
    "              (server_ip_adres, server_poort))  # Verzenden van bericht naar de server."
   ]
  },
  {
   "cell_type": "markdown",
   "metadata": {},
   "source": [
    "Als het goed is, zie je het volgende in je Command prompt:\n",
    "    \n",
    "```\n",
    "server gestart op IP adres (0.0.0.0) en poort (1235)\n",
    "aan het wachten op berichten.\n",
    "totaal aantal berichten ontvangen: 1\n",
    "totaal aantal berichten ontvangen: 2\n",
    "```"
   ]
  },
  {
   "cell_type": "markdown",
   "metadata": {},
   "source": [
    "Nu gaan we veel berichten in korte tijden sturen"
   ]
  },
  {
   "cell_type": "code",
   "execution_count": null,
   "metadata": {},
   "outputs": [],
   "source": [
    "bericht = 'hello world'\n",
    "\n",
    "for _ in range(10):\n",
    "    client.sendto(bericht.encode(),\n",
    "                  (server_ip_adres, server_poort))  # Verzenden van bericht naar de server."
   ]
  },
  {
   "cell_type": "markdown",
   "metadata": {},
   "source": [
    "Als alle berichten aangekomen zijn, zijn er nu in totaal 12 berichten aangekomen."
   ]
  },
  {
   "cell_type": "code",
   "execution_count": null,
   "metadata": {},
   "outputs": [],
   "source": [
    "bericht = 'hello world'\n",
    "\n",
    "aantal_berichten = 100000\n",
    "for _ in range(aantal_berichten):\n",
    "    client.sendto(bericht.encode(),\n",
    "                  (server_ip_adres, server_poort))  # Verzenden van bericht naar de server."
   ]
  },
  {
   "cell_type": "markdown",
   "metadata": {},
   "source": [
    "Als je deze code draait, komen nog steeds alle berichten aan?"
   ]
  },
  {
   "cell_type": "markdown",
   "metadata": {},
   "source": [
    "De opdracht is als volgt. Draai de code snippet van hierboven voor `aantal_berichten`:\n",
    "* 1\n",
    "* 100\n",
    "* 1000\n",
    "* 10000\n",
    "* 100000\n",
    "\n",
    "Draai alle varianten van `aantal_berichten` opnieuw, maar nu verstuur je elke keer het bericht met het maximale aantal karakters (zie Stap 5) in plaats van 'hello world'.\n",
    "\n",
    "Maakt de grootte van het bericht uit voor hoeveel berichten je kan versturen?"
   ]
  },
  {
   "cell_type": "markdown",
   "metadata": {},
   "source": [
    "### Stap 7: UDP en TCP"
   ]
  },
  {
   "cell_type": "markdown",
   "metadata": {},
   "source": [
    "Welke tekortkomingen van UDP ben je tegengekomen in deze opdracht?\n",
    "\n",
    "Kan TCP deze problemen oplossen? \n",
    "\n",
    "Zo ja, hoe doet TCP dit?"
   ]
  },
  {
   "cell_type": "markdown",
   "metadata": {},
   "source": [
    "### Stap 8: lokaal IP adres"
   ]
  },
  {
   "cell_type": "code",
   "execution_count": null,
   "metadata": {},
   "outputs": [],
   "source": [
    "import socket"
   ]
  },
  {
   "cell_type": "code",
   "execution_count": null,
   "metadata": {},
   "outputs": [],
   "source": [
    "hostname = socket.gethostname()\n",
    "print(hostname)"
   ]
  },
  {
   "cell_type": "code",
   "execution_count": null,
   "metadata": {},
   "outputs": [],
   "source": [
    "local_ip = socket.gethostbyname(hostname)\n",
    "print(local_ip)"
   ]
  },
  {
   "cell_type": "markdown",
   "metadata": {},
   "source": [
    "Voor als je het interessant vindt, `local_ip` is je IP adres binnen je netwerk.\n",
    "In theorie zou je berichten naar anderen kunnen sturen, als dit ten minste mag van je sys admin."
   ]
  }
 ],
 "metadata": {
  "kernelspec": {
   "display_name": "Python 3",
   "language": "python",
   "name": "python3"
  },
  "language_info": {
   "codemirror_mode": {
    "name": "ipython",
    "version": 3
   },
   "file_extension": ".py",
   "mimetype": "text/x-python",
   "name": "python",
   "nbconvert_exporter": "python",
   "pygments_lexer": "ipython3",
   "version": "3.6.10"
  }
 },
 "nbformat": 4,
 "nbformat_minor": 2
}
