{
 "cells": [
  {
   "cell_type": "markdown",
   "metadata": {},
   "source": [
    "# Opdracht: SMTP\n",
    "In deze opdracht ga je email versturen met Python.\n",
    "Om email te versturen, wordt gebruikt gemaakt van het [SMTP protocol](https://nl.wikipedia.org/wiki/Simple_Mail_Transfer_Protocol). SMTP staat voor Simple Mail Transfer Protocol.\n",
    "\n",
    "De belangrijkste onderdelen van deze opdracht zijn:\n",
    "* kennismaking met het SMTP protocol\n",
    "* toepassing van het SMTP protocol via de **smtplib** libary\n",
    "* begrip van het formaat van een email"
   ]
  },
  {
   "cell_type": "markdown",
   "metadata": {},
   "source": [
    "### 1) importeren\n",
    "Open een Python terminal en draai de volgende regel code:"
   ]
  },
  {
   "cell_type": "code",
   "execution_count": null,
   "metadata": {},
   "outputs": [],
   "source": [
    "import smtplib"
   ]
  },
  {
   "cell_type": "markdown",
   "metadata": {},
   "source": [
    "We gaan gebruik maken van deze Python libray om email te versturen"
   ]
  },
  {
   "cell_type": "markdown",
   "metadata": {},
   "source": [
    "### 2) Geef toegang aan Google voor het gebruik van minder beveiligde applicaties!"
   ]
  },
  {
   "cell_type": "markdown",
   "metadata": {},
   "source": [
    "Gegeven dat je een Gmail adres hebt, kun je via deze link toegang geven om email te versturen: https://myaccount.google.com/u/0/lesssecureapps "
   ]
  },
  {
   "cell_type": "markdown",
   "metadata": {},
   "source": [
    "Het kan zijn dat dit niet lukt omdat verificatie in 2 stappen is ingeschakeld.\n",
    "In dat geval raden we aan om een nieuw gmail adres aan te maken."
   ]
  },
  {
   "cell_type": "markdown",
   "metadata": {},
   "source": [
    "### 3) Verbinden met de Gmail server"
   ]
  },
  {
   "cell_type": "markdown",
   "metadata": {},
   "source": [
    "Je kun verbinding maken met de Gmail server door onderstaande regel te draaien:"
   ]
  },
  {
   "cell_type": "code",
   "execution_count": null,
   "metadata": {},
   "outputs": [],
   "source": [
    "server = smtplib.SMTP(host=\"smtp.gmail.com\", \n",
    "                      port=587)"
   ]
  },
  {
   "cell_type": "markdown",
   "metadata": {},
   "source": [
    "We hebben nu verbinding gemaakt met de Gmail via port 587. \n",
    "Port 587 wordt meestal gebruikt voor het versturen van email."
   ]
  },
  {
   "cell_type": "markdown",
   "metadata": {},
   "source": [
    "Om email te versturen, gaan we gebruik maken van de volgende methodes van het **smtplib.SMTP** object:\n",
    "* **ehlo**: starten van communicatie met Gmail server\n",
    "* **starttls**: starten van beveiligde verbinding met Gmail server\n",
    "* **login**: inloggen op Gmail server\n",
    "* **sendmail**: bericht versturen"
   ]
  },
  {
   "cell_type": "markdown",
   "metadata": {},
   "source": [
    "### 4) ehlo\n",
    "We gaan nu een EHLO (Extended Hello) commando sturen. \n",
    "Hiermee kunnen we meer informatie van de server opvragen."
   ]
  },
  {
   "cell_type": "code",
   "execution_count": null,
   "metadata": {},
   "outputs": [],
   "source": [
    "ehlo_code, ehlo_message = server.ehlo()\n",
    "ehlo_message = ehlo_message.decode('utf-8')\n",
    "print(f'ehlo code: {ehlo_code}')\n",
    "print(f'ehlo boodschap: {ehlo_message}')"
   ]
  },
  {
   "cell_type": "markdown",
   "metadata": {},
   "source": [
    "Laten we proberen om dit te begrijpen.\n",
    "Als het goed is, is de EHLO code 250.\n",
    "Dit betekent dat de Extended Hello gelukt is!"
   ]
  },
  {
   "cell_type": "markdown",
   "metadata": {},
   "source": [
    "Daarnaast krijgen we een ehlo boodschap. \n",
    "* **SIZE**: maximaal aantal bytes van eem Gmail email. Emails van meer dan 35MB zouden dus niet moeten kunnen. \n",
    "* **STARTTLS**: mogelijkheid om beveiligde verbinding aan te gaan"
   ]
  },
  {
   "cell_type": "markdown",
   "metadata": {},
   "source": [
    "### 5) starttls\n",
    "Draai onderstaande regel om een beveiligde verbinding te starten met de Gmail server."
   ]
  },
  {
   "cell_type": "code",
   "execution_count": null,
   "metadata": {},
   "outputs": [],
   "source": [
    "tls_code, tls_boodschap = server.starttls()"
   ]
  },
  {
   "cell_type": "code",
   "execution_count": null,
   "metadata": {},
   "outputs": [],
   "source": [
    "print(tls_code)"
   ]
  },
  {
   "cell_type": "markdown",
   "metadata": {},
   "source": [
    "Als het goed is, zie je 220. Dit betekenit dat het gelukt is om een beveiligde verbinding tot stand te brengen."
   ]
  },
  {
   "cell_type": "code",
   "execution_count": null,
   "metadata": {},
   "outputs": [],
   "source": [
    "print(tls_boodschap)"
   ]
  },
  {
   "cell_type": "markdown",
   "metadata": {},
   "source": [
    "### 6) We gaan nu inloggen"
   ]
  },
  {
   "cell_type": "code",
   "execution_count": null,
   "metadata": {},
   "outputs": [],
   "source": [
    "sender = input('email:')\n",
    "passwd = input('password:')\n",
    "login_code, login_boodschap = server.login(sender, passwd) # Inloggen op Gmail server met inloggegevens."
   ]
  },
  {
   "cell_type": "code",
   "execution_count": null,
   "metadata": {},
   "outputs": [],
   "source": [
    "print(login_code)"
   ]
  },
  {
   "cell_type": "markdown",
   "metadata": {},
   "source": [
    "Als het goed, is de code 235. Dit betekent dat het inloggen geslaagd. "
   ]
  },
  {
   "cell_type": "code",
   "execution_count": null,
   "metadata": {},
   "outputs": [],
   "source": [
    "print(login_boodschap)"
   ]
  },
  {
   "cell_type": "markdown",
   "metadata": {},
   "source": [
    "Probeer eens nog een keer in te loggen. Als het goed is, zie je nu een andere code. Welke? En wat betekent deze?"
   ]
  },
  {
   "cell_type": "markdown",
   "metadata": {},
   "source": [
    "### 7) email opstellen en versturen"
   ]
  },
  {
   "cell_type": "markdown",
   "metadata": {},
   "source": [
    "Een email moet voldoen aan een bepaald formaat.\n",
    "Een bekend formaat hiervoor is het [MIME](https://nl.wikipedia.org/wiki/Multipurpose_Internet_Mail_Extensions) formaat.\n",
    "MIME staat voor Multipurpose Internet Mail Extensions."
   ]
  },
  {
   "cell_type": "code",
   "execution_count": null,
   "metadata": {},
   "outputs": [],
   "source": [
    "subject = \"onderwerp van email\"\n",
    "\n",
    "to = 'JOUW EMAILADRES HIER' # je gaat een email naar jezelf sturen\n",
    "aan = 'To:' + to\n",
    "text = 'Dit is een email'\n",
    "\n",
    "body = '\\n'.join([aan, to, text])\n",
    "print(body)"
   ]
  },
  {
   "cell_type": "code",
   "execution_count": null,
   "metadata": {},
   "outputs": [],
   "source": [
    "resultaat = server.sendmail(sender, [to], body) # Verzenden van email."
   ]
  },
  {
   "cell_type": "code",
   "execution_count": null,
   "metadata": {},
   "outputs": [],
   "source": [
    "print(resultaat)"
   ]
  },
  {
   "cell_type": "markdown",
   "metadata": {},
   "source": [
    "Als het goed is, wordt een leeg dictionary getoond. Dit betekent dat alle emails gelukt zijn.\n",
    "Het is alleen wel jammer dat de email geen onderwerp heeft. Laten we dit toevoegen."
   ]
  },
  {
   "cell_type": "code",
   "execution_count": null,
   "metadata": {},
   "outputs": [],
   "source": [
    "subject = \"onderwerp van email\"\n",
    "\n",
    "to = 'JOUW EMAILADRES HIER' # je gaat een email naar jezelf sturen\n",
    "aan = 'To:' + to\n",
    "subject = 'Subject:' + 'JOUW ONDERWERP'\n",
    "text = 'Dit is een email'\n",
    "\n",
    "body = '\\n'.join([aan, subject, text])\n",
    "print(body)"
   ]
  },
  {
   "cell_type": "code",
   "execution_count": null,
   "metadata": {},
   "outputs": [],
   "source": [
    "resultaat = server.sendmail(sender, [to], body) # Verzenden van email."
   ]
  },
  {
   "cell_type": "markdown",
   "metadata": {},
   "source": [
    "### 8) Variaties in de opties"
   ]
  },
  {
   "cell_type": "markdown",
   "metadata": {},
   "source": [
    "#### 8a) andere status codes\n",
    "Wat gebeurt er als je een email stuurt naar \"blabla\"?\n",
    "Welke code krijg je en wat betekent deze? Zie voor hulp: https://en.wikipedia.org/wiki/List_of_SMTP_server_return_codes"
   ]
  },
  {
   "cell_type": "markdown",
   "metadata": {},
   "source": [
    "#### 8b) Andere headers\n",
    "Voeg een regel toe aan je email.\n",
    "Stuur nu ook een email met jezelf in \"Bcc:\"."
   ]
  },
  {
   "cell_type": "markdown",
   "metadata": {},
   "source": [
    "### 8c) een bijlage versturen\n",
    "Kies een bestand om als bijlage te versturen."
   ]
  },
  {
   "cell_type": "code",
   "execution_count": null,
   "metadata": {},
   "outputs": [],
   "source": [
    "from email.mime.multipart import MIMEMultipart\n",
    "from email.mime.text import MIMEText\n",
    "from email.mime.base import MIMEBase\n",
    "from email import encoders"
   ]
  },
  {
   "cell_type": "code",
   "execution_count": null,
   "metadata": {},
   "outputs": [],
   "source": [
    "message = MIMEMultipart()       # Object voor het bouwen van mail.\n",
    "\n",
    "aan = 'JOUW EMAILADRES'\n",
    "\n",
    "message[\"From\"] = aan\n",
    "message[\"To\"] = aan\n",
    "message[\"Subject\"] = \"Mail via smtp met bijlage\"\n",
    "\n",
    "file = \"hello.txt\"    # Bestandsnaam van jouw bijlage\n",
    "attachment = open(file,'rb')    # openen\n",
    "\n",
    "with open(file, \"rb\") as attachment:\n",
    "    obj = MIMEBase(\"application\", \"octet-stream\")   # Object nodig voor het maken van bijlage in format.\n",
    "    obj.set_payload( attachment.read() )    # Bijlage als payload.\n",
    "    encoders.encode_base64(obj) # Encoden van bijlage.\n",
    "    obj.add_header(\"Content-Disposition\", \"attachment; filename= \"+file) # Header toevoegen.\n",
    "    message.attach(obj)     # Bijlage toevoegen aan bericht.\n",
    "\n",
    "my_message = message.as_string()    # Object omzetten naar string.\n",
    "print(my_message)"
   ]
  },
  {
   "cell_type": "code",
   "execution_count": null,
   "metadata": {},
   "outputs": [],
   "source": [
    "server.sendmail(aan, [aan], my_message) # Verzenden van email."
   ]
  }
 ],
 "metadata": {
  "kernelspec": {
   "display_name": "Python 3",
   "language": "python",
   "name": "python3"
  },
  "language_info": {
   "codemirror_mode": {
    "name": "ipython",
    "version": 3
   },
   "file_extension": ".py",
   "mimetype": "text/x-python",
   "name": "python",
   "nbconvert_exporter": "python",
   "pygments_lexer": "ipython3",
   "version": "3.6.10"
  }
 },
 "nbformat": 4,
 "nbformat_minor": 2
}
